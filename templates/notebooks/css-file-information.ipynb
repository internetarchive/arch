{
 "cells": [
  {
   "cell_type": "markdown",
   "metadata": {
    "id": "vAyuRQ2PJIdc"
   },
   "source": [
    "# CSS Information Dataset Exploration\n",
    "\n",
    "We're going to take a look at a few examples of how we can explore the CSS Information dataset."
   ]
  },
  {
   "cell_type": "code",
   "execution_count": null,
   "metadata": {
    "cellView": "form",
    "colab": {
     "base_uri": "https://localhost:8080/"
    },
    "id": "RfhJiesWVpAf",
    "outputId": "2dcb4bb0-32d3-4bcc-936a-8e5ba60b1dc6"
   },
   "outputs": [],
   "source": [
    "dataset = \"ARCHDATASETURL\""
   ]
  },
  {
   "cell_type": "markdown",
   "metadata": {
    "id": "Z14F2cIWJVW0"
   },
   "source": [
    "## pandas\n",
    "\n",
    "Next, we'll set up our environment so we can load our CSS Information dataset into [pandas](https://pandas.pydata.org) DataFrames. If you're unfamiliar with DataFrames, but you've worked with spreadsheets before, you should feel comfortable pretty quick."
   ]
  },
  {
   "cell_type": "code",
   "execution_count": null,
   "metadata": {
    "id": "Chh6tt3HHF1s"
   },
   "outputs": [],
   "source": [
    "import pandas as pd"
   ]
  },
  {
   "cell_type": "markdown",
   "metadata": {
    "id": "sH81XCf3I3xY"
   },
   "source": [
    "## Data Table Display\n",
    "\n",
    "Colab includes an extension that renders pandas DataFrames into interactive displays that can be filtered, sorted, and explored dynamically. This can be very useful for taking a look at what each DataFrame provides, and doing some intital filtering!\n",
    "\n",
    "Data table display for pandas dataframes can be enabled by running:\n",
    "```python\n",
    "%load_ext google.colab.data_table\n",
    "```\n",
    "and disabled by running\n",
    "```python\n",
    "%unload_ext google.colab.data_table\n",
    "```"
   ]
  },
  {
   "cell_type": "code",
   "execution_count": null,
   "metadata": {
    "id": "-qyCnbvBI7n6"
   },
   "outputs": [],
   "source": [
    "%load_ext google.colab.data_table"
   ]
  },
  {
   "cell_type": "markdown",
   "metadata": {
    "id": "6prR7j1zI_D5"
   },
   "source": [
    "## Loading our ARCH Dataset as a DataFrame\n",
    "\n",
    "---\n",
    "\n",
    "\n",
    "Next, we'll create pandas DataFrame from our dataset, and show a preview of it using the Data Table Display."
   ]
  },
  {
   "cell_type": "code",
   "execution_count": null,
   "metadata": {
    "colab": {
     "base_uri": "https://localhost:8080/",
     "height": 679
    },
    "id": "YL0LQaUNHRKx",
    "outputId": "3be28696-1713-4c00-9e57-43eff9e0aa3f"
   },
   "outputs": [],
   "source": [
    "css = pd.read_csv(dataset, compression=\"gzip\", lineterminator=\"\\n\", skipinitialspace=True)\n",
    "css"
   ]
  },
  {
   "cell_type": "markdown",
   "metadata": {
    "id": "3HPwOCNAvqMe"
   },
   "source": [
    "# Data Analysis\n",
    "\n",
    "Now that we have all of our datasets loaded up, we can begin to work with them!"
   ]
  },
  {
   "cell_type": "markdown",
   "metadata": {
    "id": "J6Pkg0prv3BE"
   },
   "source": [
    "## Counting total files, and unique files\n",
    "\n",
    "Let's take a quick look at how to count items in DataFrames, and use total and unique files as an example to work with.\n",
    "\n",
    "It's definitely work checking out the [pandas documentation](https://pandas.pydata.org/docs/index.html). There are a lot of good examples available, along with a robust [API reference](https://pandas.pydata.org/docs/reference/index.html#api)."
   ]
  },
  {
   "cell_type": "markdown",
   "metadata": {
    "id": "DFX4Gl3wv7bi"
   },
   "source": [
    "\n",
    "### How many css files are in this collection?\n",
    "\n",
    "We can take our `css` variable try a couple of functions to get the same answer.\n",
    "\n",
    "1.   `len(css.index)`\n",
    "  * Get the length of the DataFrame's index.\n",
    "2.   `css.shape[0]`\n",
    "  * Get the shape or dimensionality of the DataFrame, and take the first item in the tuple.\n",
    "3.  `css.count()`\n",
    "  * Count the number of rows for each column.\n",
    "\n"
   ]
  },
  {
   "cell_type": "code",
   "execution_count": null,
   "metadata": {
    "colab": {
     "base_uri": "https://localhost:8080/"
    },
    "id": "HTv8Oet3jiTH",
    "outputId": "d255b2b8-fefe-425d-c9ee-5e093f97181e"
   },
   "outputs": [],
   "source": [
    "len(css.index)"
   ]
  },
  {
   "cell_type": "code",
   "execution_count": null,
   "metadata": {
    "colab": {
     "base_uri": "https://localhost:8080/"
    },
    "id": "6rYEERnTjifk",
    "outputId": "2f3db764-b79c-4a03-ae03-726e0944ba05"
   },
   "outputs": [],
   "source": [
    "css.shape[0]"
   ]
  },
  {
   "cell_type": "code",
   "execution_count": null,
   "metadata": {
    "colab": {
     "base_uri": "https://localhost:8080/"
    },
    "id": "bn-1v127aKIG",
    "outputId": "a5f0d8af-202d-4753-d9b9-c113ae238eb4"
   },
   "outputs": [],
   "source": [
    "css.count()"
   ]
  },
  {
   "cell_type": "markdown",
   "metadata": {
    "id": "38veKiPhwKo4"
   },
   "source": [
    "### How many unique css files are in the collection?\n",
    "\n",
    " We can see if an css files is unique or not by computing an [MD5 hash](https://en.wikipedia.org/wiki/MD5#MD5_hashes) of it, and comparing them. The exact same css file might have a filename of `example.css` or `foo.css`. If the hash is computed for each, we can see that even with different file names, they are actually the same css file. So, since we have both a `MD5` and `SHA1` hash column available in our DataFrame, we can just find the unique values, and count them!"
   ]
  },
  {
   "cell_type": "code",
   "execution_count": null,
   "metadata": {
    "colab": {
     "base_uri": "https://localhost:8080/"
    },
    "id": "WesM3kQowM5B",
    "outputId": "636a9b8d-f038-489b-80af-0aef05eef97d"
   },
   "outputs": [],
   "source": [
    "len(css.md5.unique())"
   ]
  },
  {
   "cell_type": "markdown",
   "metadata": {
    "id": "ZIXkI0-1wWQf"
   },
   "source": [
    "### What are the top 10 most occurring css files in the collection?\n",
    "\n",
    "Here we can take advantage of [`value_counts()`](https://pandas.pydata.org/docs/reference/api/pandas.DataFrame.value_counts.html) to provide us with a list of MD5 hashes, and their respective counts."
   ]
  },
  {
   "cell_type": "code",
   "execution_count": null,
   "metadata": {
    "colab": {
     "base_uri": "https://localhost:8080/"
    },
    "id": "8Ts03OFyjPIM",
    "outputId": "d7e38b10-7a5f-4ad2-8628-3eccc3ae962a"
   },
   "outputs": [],
   "source": [
    "css[\"md5\"].value_counts().head(10)"
   ]
  },
  {
   "cell_type": "markdown",
   "metadata": {},
   "source": [
    "Get the top value as a variable using [`mode()`](https://pandas.pydata.org/docs/reference/api/pandas.DataFrame.mode.html)."
   ]
  },
  {
   "cell_type": "code",
   "execution_count": null,
   "metadata": {},
   "outputs": [],
   "source": [
    "most_occurring = css[\"md5\"].mode()[0]\n",
    "most_occurring"
   ]
  },
  {
   "cell_type": "markdown",
   "metadata": {
    "id": "FG7pGZUEwlaI"
   },
   "source": [
    "### What's the information around all the most occurring file?\n",
    "\n",
    "Let's find those css files in the DataFrame. We can here see some of the filenames used, MIME types, and its URL."
   ]
  },
  {
   "cell_type": "code",
   "execution_count": null,
   "metadata": {
    "colab": {
     "base_uri": "https://localhost:8080/",
     "height": 659
    },
    "id": "msmmm65lkSIK",
    "outputId": "25e65b6e-82a0-4f50-e49b-49614b924c0d"
   },
   "outputs": [],
   "source": [
    "css.loc[css[\"md5\"] == most_occurring]"
   ]
  },
  {
   "cell_type": "markdown",
   "metadata": {
    "id": "GbLLZW2awzCv"
   },
   "source": [
    "### What are the top 10 most occurring filenames in the collection?\n",
    "\n",
    "Note that this is of course different than the MD5 results up above. Here we are focusing _just_ on filename. So `styles.css` for example, might actually be referring to different css files who happen to have the same name.\n",
    "\n",
    "Here we can use `value_counts()` again, but this time we'll create a variable for the top filenames so we can use it later.\n",
    "\n"
   ]
  },
  {
   "cell_type": "code",
   "execution_count": null,
   "metadata": {
    "colab": {
     "base_uri": "https://localhost:8080/"
    },
    "id": "pQaw54ACkwdZ",
    "outputId": "6f6c3468-8045-482e-8465-9d1c62e68848"
   },
   "outputs": [],
   "source": [
    "top_filenames = css[\"filename\"].value_counts().head(10)\n",
    "top_filenames"
   ]
  },
  {
   "cell_type": "markdown",
   "metadata": {
    "id": "Z7F3re20BQRI"
   },
   "source": [
    "### Let's create our first graph!\n",
    "\n",
    "We'll plot the data first with pandas [plot](https://pandas.pydata.org/docs/reference/api/pandas.Series.plot.html) functionality, and then plot the data with [Altair](https://altair-viz.github.io/)."
   ]
  },
  {
   "cell_type": "code",
   "execution_count": null,
   "metadata": {
    "colab": {
     "base_uri": "https://localhost:8080/",
     "height": 756
    },
    "id": "sRvlstfsBWEZ",
    "outputId": "d11d02f5-633b-4ca9-f6be-bed9f84b2ef5"
   },
   "outputs": [],
   "source": [
    "top_filenames_chart = top_filenames.plot.bar(figsize=(25, 10))\n",
    "\n",
    "top_filenames_chart.set_title(\"Top Filenames\", fontsize=22)\n",
    "top_filenames_chart.set_xlabel(\"Filename\", fontsize=20)\n",
    "top_filenames_chart.set_ylabel(\"Count\", fontsize=20)"
   ]
  },
  {
   "cell_type": "markdown",
   "metadata": {
    "id": "pQgeOObvgLvK"
   },
   "source": [
    "Now let's setup [Altair](https://altair-viz.github.io/), and plot the data with Altair. Altair is useful for creating vizualizations since they can be easily exported as a PNG or SVG."
   ]
  },
  {
   "cell_type": "code",
   "execution_count": null,
   "metadata": {
    "id": "Q7Z4J6qjWaVM"
   },
   "outputs": [],
   "source": [
    "import altair as alt"
   ]
  },
  {
   "cell_type": "code",
   "execution_count": null,
   "metadata": {
    "colab": {
     "base_uri": "https://localhost:8080/",
     "height": 883
    },
    "id": "s0xwvILYWkgg",
    "outputId": "4a91682f-3e95-4aa3-8846-50eaea21e5bc"
   },
   "outputs": [],
   "source": [
    "top_filenames_altair = (\n",
    "    css[\"filename\"]\n",
    "    .value_counts()\n",
    "    .head(10)\n",
    "    .rename_axis(\"Filename\")\n",
    "    .reset_index(name=\"Count\")\n",
    ")\n",
    "\n",
    "filenames_bar = (\n",
    "    alt.Chart(top_filenames_altair)\n",
    "    .mark_bar()\n",
    "    .encode(x=alt.X(\"Filename:O\", sort=\"-y\"), y=alt.Y(\"Count:Q\"))\n",
    ")\n",
    "\n",
    "filenames_rule = (\n",
    "    alt.Chart(top_filenames_altair).mark_rule(color=\"red\").encode(y=\"mean(Count):Q\")\n",
    ")\n",
    "\n",
    "\n",
    "filenames_text = filenames_bar.mark_text(align=\"center\", baseline=\"bottom\").encode(\n",
    "    text=\"Count:Q\"\n",
    ")\n",
    "\n",
    "(filenames_bar + filenames_rule + filenames_text).properties(\n",
    "    width=1400, height=700, title=\"Top Filenames\"\n",
    ")"
   ]
  },
  {
   "cell_type": "markdown",
   "metadata": {
    "id": "BneaN9cgGoly"
   },
   "source": [
    "### How about a file format distribution?\n",
    "\n",
    "What _kind_ of css files are present? We can discover this by checking their \"media type\", or [MIME type](https://en.wikipedia.org/wiki/Media_type). \n",
    "\n",
    "\n",
    "\n",
    "\n"
   ]
  },
  {
   "cell_type": "code",
   "execution_count": null,
   "metadata": {
    "colab": {
     "base_uri": "https://localhost:8080/",
     "height": 823
    },
    "id": "RDd-J8D-GwDk",
    "outputId": "aea9d9fb-8a53-49c9-acb3-8ca88f713a71"
   },
   "outputs": [],
   "source": [
    "css_mime_types = (\n",
    "    css[\"mime_type_tika\"]\n",
    "    .value_counts()\n",
    "    .head(5)\n",
    "    .rename_axis(\"MIME Type\")\n",
    "    .reset_index(name=\"Count\")\n",
    ")\n",
    "\n",
    "css_mimes_bar = (\n",
    "    alt.Chart(css_mime_types)\n",
    "    .mark_bar()\n",
    "    .encode(x=alt.X(\"MIME Type:O\", sort=\"-y\"), y=alt.Y(\"Count:Q\"))\n",
    ")\n",
    "\n",
    "css_mime_rule = (\n",
    "    alt.Chart(css_mime_types).mark_rule(color=\"red\").encode(y=\"mean(Count):Q\")\n",
    ")\n",
    "\n",
    "css_mime_text = css_mimes_bar.mark_text(align=\"center\", baseline=\"bottom\").encode(\n",
    "    text=\"Count:Q\"\n",
    ")\n",
    "\n",
    "(css_mimes_bar + css_mime_rule + css_mime_text).properties(\n",
    "    width=1400, height=700, title=\"CSS File Format Distribution\"\n",
    ")"
   ]
  },
  {
   "cell_type": "markdown",
   "metadata": {
    "id": "QUJR-jjqNxCL"
   },
   "source": [
    "### How do I get the actual css?\n",
    "\n",
    "...or, how do I get to the actual binary files described by each file format information derivative?\n",
    "\n",
    "There are a few options!\n",
    "\n",
    "1. `wget` or `curl` from the live URL, or a replay URL\n",
    "  * Live web URL\n",
    "    * `wget` or `curl` the value of the `url` column\n",
    "  * Replay web URL\n",
    "    * `wget` or `curl` the value of the `crawl_date` and `url` column using the following pattern:\n",
    "      * `https://web.archive.org/web/` + `crawl_date` + `/` + `url`\n",
    "        * https://web.archive.org/web/20120119124734/http://www.archive.org/images/glogo.png\n",
    "      * `http://wayback.archive-it.org/14462/` + `crawl_date` + `/` + `url`\n",
    "        * https://wayback.archive-it.org/14462/20210524212740/https://ruebot.net/visualization/elxn42/featured_hu33a17dfb90e2c5ed77f783db14a6e53a_5126291_550x0_resize_q90_box_2.png\n",
    "2. Use a scripting language, such as Python\n",
    "  * Make use of the `url` and `filename` columns (and `crawl_date` if you want to use the replay URL)\n",
    "  * `import requests`\n",
    "  * `requests.get(url, allow_redirects=True)`\n",
    "  * `open('filename', 'wb').write(r.content)`\n",
    "3. Use the [Archives Unleashed Toolkit](https://aut.docs.archivesunleashed.org/docs/extract-binary) (if you have access to the W/ARC files)."
   ]
  },
  {
   "cell_type": "markdown",
   "metadata": {
    "id": "8yoFE2xLAlwk"
   },
   "source": [
    "If you wanted to download the css files using the replay URL, below a method for doing so.\n",
    "\n",
    "First, you'll want to setup a replay url base url. Here we'll use the Archive-It Wayback instance for the collection."
   ]
  },
  {
   "cell_type": "code",
   "execution_count": null,
   "metadata": {
    "id": "RxrOHn_2AicZ"
   },
   "outputs": [],
   "source": [
    "wayback_url = \"ARCHCOLLECTIONIDURL\""
   ]
  },
  {
   "cell_type": "markdown",
   "metadata": {
    "id": "jCTmrEBGA-Yd"
   },
   "source": [
    "Next we'll create a new column using a lambda function. If you're familiar working with spreadsheets, what we're doing here is basically concatenating some column values together and creating a new column."
   ]
  },
  {
   "cell_type": "code",
   "execution_count": null,
   "metadata": {
    "id": "p5HoWxkFA6C8"
   },
   "outputs": [],
   "source": [
    "css[\"replay_url\"] = css.apply(\n",
    "    lambda row: str(wayback_url + str(row[\"crawl_date\"]) + \"/\" + row[\"url\"]), axis=1\n",
    ")"
   ]
  },
  {
   "cell_type": "markdown",
   "metadata": {
    "id": "q87tSYyIBIiZ"
   },
   "source": [
    "Then we can export that new column we created out to a file, so we can use it with `wget` to download all the css files!"
   ]
  },
  {
   "cell_type": "code",
   "execution_count": null,
   "metadata": {
    "id": "wyhpsf9wBN1a"
   },
   "outputs": [],
   "source": [
    "css[\"replay_url\"].head().to_csv(\"css_urls.txt\", index=False, header=False)"
   ]
  },
  {
   "cell_type": "markdown",
   "metadata": {
    "id": "81a3q7feu5Ji"
   },
   "source": [
    "Finally, we can pass the file to `wget` to use as a download list. You can also speed this process up using `xargs` or `parallel`."
   ]
  },
  {
   "cell_type": "code",
   "execution_count": null,
   "metadata": {
    "colab": {
     "base_uri": "https://localhost:8080/"
    },
    "id": "D_p4qGKoBRaZ",
    "outputId": "88009ea1-7e14-46d1-df68-ce5f98533f71"
   },
   "outputs": [],
   "source": [
    "!wget --random-wait -i css_urls.txt"
   ]
  }
 ],
 "metadata": {
  "colab": {
   "include_colab_link": true,
   "provenance": []
  },
  "kernelspec": {
   "display_name": "Python 3 (ipykernel)",
   "language": "python",
   "name": "python3"
  },
  "language_info": {
   "codemirror_mode": {
    "name": "ipython",
    "version": 3
   },
   "file_extension": ".py",
   "mimetype": "text/x-python",
   "name": "python",
   "nbconvert_exporter": "python",
   "pygments_lexer": "ipython3",
   "version": "3.9.9"
  }
 },
 "nbformat": 4,
 "nbformat_minor": 4
}
