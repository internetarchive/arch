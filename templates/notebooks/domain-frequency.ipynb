{
 "cells": [
  {
   "cell_type": "markdown",
   "metadata": {
    "id": "vAyuRQ2PJIdc"
   },
   "source": [
    "# Domain Frequency Dataset Exploration\n",
    "\n",
    "We're going to take a look at a few examples of how we can explore the Domain Frequency dataset."
   ]
  },
  {
   "cell_type": "code",
   "execution_count": null,
   "metadata": {
    "cellView": "form",
    "colab": {
     "base_uri": "https://localhost:8080/"
    },
    "id": "RfhJiesWVpAf",
    "outputId": "277fad1b-e6c8-4d4f-d2cb-11f38f484138"
   },
   "outputs": [],
   "source": [
    "dataset = \"ARCHDATASETURL\""
   ]
  },
  {
   "cell_type": "markdown",
   "metadata": {
    "id": "Z14F2cIWJVW0"
   },
   "source": [
    "# Environment\n",
    "\n",
    "Next, we'll set up our environment so we can load our Domain Frequency dataset into [pandas](https://pandas.pydata.org) and use [Altair](https://altair-viz.github.io/) for plots. Altair is useful for creating plots since they can be easily exported as a PNG or SVG."
   ]
  },
  {
   "cell_type": "code",
   "execution_count": null,
   "metadata": {
    "id": "Chh6tt3HHF1s"
   },
   "outputs": [],
   "source": [
    "import altair as alt\n",
    "import pandas as pd"
   ]
  },
  {
   "cell_type": "markdown",
   "metadata": {
    "id": "sH81XCf3I3xY"
   },
   "source": [
    "## Data Table Display\n",
    "\n",
    "Colab includes an extension that renders pandas DataFrames into interactive displays that can be filtered, sorted, and explored dynamically. This can be very useful for taking a look at what each DataFrame provides!\n",
    "\n",
    "Data table display for pandas DataFrames can be enabled by running:\n",
    "```python\n",
    "%load_ext google.colab.data_table\n",
    "```\n",
    "and disabled by running\n",
    "```python\n",
    "%unload_ext google.colab.data_table\n",
    "```"
   ]
  },
  {
   "cell_type": "code",
   "execution_count": null,
   "metadata": {
    "id": "-qyCnbvBI7n6"
   },
   "outputs": [],
   "source": [
    "%load_ext google.colab.data_table"
   ]
  },
  {
   "cell_type": "markdown",
   "metadata": {
    "id": "6prR7j1zI_D5"
   },
   "source": [
    "# Loading our ARCH Dataset as a DataFrame\n",
    "\n",
    "---\n",
    "\n",
    "\n",
    "Next, we'll create a pandas DataFrame from our dataset and show a preview of it using the Data Table Display."
   ]
  },
  {
   "cell_type": "code",
   "execution_count": null,
   "metadata": {
    "colab": {
     "base_uri": "https://localhost:8080/",
     "height": 441
    },
    "id": "YL0LQaUNHRKx",
    "outputId": "498e4153-bb5a-427e-9eba-9a3aa10abdfe"
   },
   "outputs": [],
   "source": [
    "domains = pd.read_csv(dataset, compression=\"gzip\")\n",
    "domains"
   ]
  },
  {
   "cell_type": "markdown",
   "metadata": {
    "id": "l7KkFWeYIIAp"
   },
   "source": [
    "# Create our first vizualization\n",
    "\n",
    "What does the distribution of domains look like?\n",
    "\n",
    "Here we can see which domains occur most frequently within the collection."
   ]
  },
  {
   "cell_type": "code",
   "execution_count": null,
   "metadata": {
    "colab": {
     "base_uri": "https://localhost:8080/",
     "height": 857
    },
    "id": "C_X_YSD4PyQi",
    "outputId": "72a830e8-4f94-4dfb-8996-ec6067f5b3a3"
   },
   "outputs": [],
   "source": [
    "top_domains = domains.sort_values(\"count\", ascending=False).head(10)\n",
    "\n",
    "top_domains_bar = (\n",
    "    alt.Chart(top_domains)\n",
    "    .mark_bar()\n",
    "    .encode(\n",
    "        x=alt.X(\"domain:O\", title=\"Domain\", sort=\"-y\"),\n",
    "        y=alt.Y(\"count:Q\", title=\"Count, Mean of Count\"),\n",
    "    )\n",
    ")\n",
    "\n",
    "top_domains_rule = (\n",
    "    alt.Chart(top_domains).mark_rule(color=\"red\").encode(y=\"mean(count):Q\")\n",
    ")\n",
    "\n",
    "top_domains_text = top_domains_bar.mark_text(align=\"center\", baseline=\"bottom\").encode(\n",
    "    text=\"count:Q\"\n",
    ")\n",
    "\n",
    "(top_domains_bar + top_domains_rule + top_domains_text).properties(\n",
    "    width=1400, height=700, title=\"Domains Distribution\"\n",
    ")"
   ]
  },
  {
   "cell_type": "markdown",
   "metadata": {
    "id": "sYUfJ2PRILda"
   },
   "source": [
    "## Top Level Domain Analysis\n",
    "\n",
    "pandas allows you to create new columns in a DataFrame based off of existing data. This comes in handy for a number of use cases with the available data that we have. In this case, let's create a new column, `tld`, which is based off an existing column, 'domain'. This example should provide you with an implementation pattern for expanding on these datasets to do further research and analysis.\n",
    "\n",
    "A [top-level domain](https://en.wikipedia.org/wiki/Top-level_domain) refers to the highest domain in an address - i.e. `.ca`, `.com`, `.org`, or yes, even `.pizza`.\n",
    "\n",
    "Things get a bit complicated, however, in some national TLDs. While `qc.ca` (the domain for Quebec) isn't really a top-level domain, it has many of the features of one as people can directly register under it. Below, we'll use the command `suffix` to include this. \n",
    "\n",
    "> You can learn more about suffixes at https://publicsuffix.org.\n",
    "\n",
    "We'll take the `domain` column and extract the `tld` from it using [`tldextract`](https://github.com/john-kurkowski/tldextract).\n",
    "\n",
    "First we'll add the [`tldextract`](https://github.com/john-kurkowski/tldextract) library to the notebook. Then, we'll create the new column."
   ]
  },
  {
   "cell_type": "code",
   "execution_count": null,
   "metadata": {
    "id": "k3FbVW71IQFs"
   },
   "outputs": [],
   "source": [
    "%%capture\n",
    "\n",
    "!pip install tldextract"
   ]
  },
  {
   "cell_type": "code",
   "execution_count": null,
   "metadata": {
    "colab": {
     "base_uri": "https://localhost:8080/",
     "height": 441
    },
    "id": "_wbejg5zISq_",
    "outputId": "f32ac550-3475-4ee8-ab82-97175674ae95"
   },
   "outputs": [],
   "source": [
    "import tldextract\n",
    "\n",
    "domains[\"tld\"] = domains.apply(\n",
    "    lambda row: tldextract.extract(row.domain).suffix, axis=1\n",
    ")\n",
    "domains"
   ]
  },
  {
   "cell_type": "code",
   "execution_count": null,
   "metadata": {
    "colab": {
     "base_uri": "https://localhost:8080/"
    },
    "id": "BiT8SNV_IZbX",
    "outputId": "33c92b94-59db-484b-860d-e674c2469598"
   },
   "outputs": [],
   "source": [
    "tld_count = domains[\"tld\"].value_counts()\n",
    "tld_count"
   ]
  },
  {
   "cell_type": "code",
   "execution_count": null,
   "metadata": {
    "colab": {
     "base_uri": "https://localhost:8080/",
     "height": 810
    },
    "id": "0ZKqaADbIbbr",
    "outputId": "930d20ee-d594-4d2e-f538-2c055e8709d4"
   },
   "outputs": [],
   "source": [
    "tld_count = (\n",
    "    domains[\"tld\"].value_counts().rename_axis(\"TLD\").reset_index(name=\"Count\").head(10)\n",
    ")\n",
    "\n",
    "tld_bar = (\n",
    "    alt.Chart(tld_count)\n",
    "    .mark_bar()\n",
    "    .encode(x=alt.X(\"TLD:O\", sort=\"-y\"), y=alt.Y(\"Count:Q\"))\n",
    ")\n",
    "\n",
    "tld_rule = alt.Chart(tld_count).mark_rule(color=\"red\").encode(y=\"mean(Count):Q\")\n",
    "\n",
    "tld_text = tld_bar.mark_text(align=\"center\", baseline=\"bottom\").encode(text=\"Count:Q\")\n",
    "\n",
    "(tld_bar + tld_rule + tld_text).properties(\n",
    "    width=1400, height=700, title=\"Top Level Domain Distribution\"\n",
    ")"
   ]
  }
 ],
 "metadata": {
  "colab": {
   "include_colab_link": true,
   "name": "domain-frequency.ipynb",
   "provenance": []
  },
  "kernelspec": {
   "display_name": "Python 3 (ipykernel)",
   "language": "python",
   "name": "python3"
  },
  "language_info": {
   "codemirror_mode": {
    "name": "ipython",
    "version": 3
   },
   "file_extension": ".py",
   "mimetype": "text/x-python",
   "name": "python",
   "nbconvert_exporter": "python",
   "pygments_lexer": "ipython3",
   "version": "3.9.9"
  }
 },
 "nbformat": 4,
 "nbformat_minor": 4
}
