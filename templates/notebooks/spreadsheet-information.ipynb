{
 "cells": [
  {
   "cell_type": "markdown",
   "metadata": {
    "id": "vAyuRQ2PJIdc"
   },
   "source": [
    "# Spreadsheet Information Dataset Exploration\n",
    "\n",
    "We're going to take a look at a few examples of how we can explore the Spreadsheet Information dataset."
   ]
  },
  {
   "cell_type": "code",
   "execution_count": null,
   "metadata": {
    "cellView": "form",
    "colab": {
     "base_uri": "https://localhost:8080/"
    },
    "id": "RfhJiesWVpAf",
    "outputId": "aafe0bc2-b0df-4beb-f42d-53f89c3b191b"
   },
   "outputs": [],
   "source": [
    "dataset = \"ARCHDATASETURL\""
   ]
  },
  {
   "cell_type": "markdown",
   "metadata": {
    "id": "Z14F2cIWJVW0"
   },
   "source": [
    "## pandas\n",
    "\n",
    "Next, we'll setup our environment so we can load our Spreadsheet Information dataset into [pandas](https://pandas.pydata.org) DataFrames. If you're unfamiliar with DataFrames, but you've worked with spreadsheets before, you should feel comfortable pretty quick."
   ]
  },
  {
   "cell_type": "code",
   "execution_count": null,
   "metadata": {
    "id": "Chh6tt3HHF1s"
   },
   "outputs": [],
   "source": [
    "import pandas as pd"
   ]
  },
  {
   "cell_type": "markdown",
   "metadata": {
    "id": "sH81XCf3I3xY"
   },
   "source": [
    "## Data Table Display\n",
    "\n",
    "Colab includes an extension that renders pandas DataFrames into interactive displays that can be filtered, sorted, and explored dynamically. This can be very useful for taking a look at what each DataFrame provides, and doing some intital filtering!\n",
    "\n",
    "Data table display for pandas DataFrames can be enabled by running:\n",
    "```python\n",
    "%load_ext google.colab.data_table\n",
    "```\n",
    "and disabled by running\n",
    "```python\n",
    "%unload_ext google.colab.data_table\n",
    "```"
   ]
  },
  {
   "cell_type": "code",
   "execution_count": null,
   "metadata": {
    "id": "-qyCnbvBI7n6"
   },
   "outputs": [],
   "source": [
    "%load_ext google.colab.data_table"
   ]
  },
  {
   "cell_type": "markdown",
   "metadata": {
    "id": "6prR7j1zI_D5"
   },
   "source": [
    "## Loading our ARCH Dataset as a DataFrame\n",
    "\n",
    "---\n",
    "\n",
    "\n",
    "Next, we'll create pandas DataFrame from our dataset, and show a preview of it using the Data Table Display."
   ]
  },
  {
   "cell_type": "code",
   "execution_count": null,
   "metadata": {
    "colab": {
     "base_uri": "https://localhost:8080/",
     "height": 1481
    },
    "id": "YL0LQaUNHRKx",
    "outputId": "da542cf2-7152-47ce-87f5-f62bf656b06a"
   },
   "outputs": [],
   "source": [
    "spreadsheet = pd.read_csv(dataset, compression=\"gzip\", skipinitialspace=True)\n",
    "spreadsheet"
   ]
  },
  {
   "cell_type": "markdown",
   "metadata": {
    "id": "3HPwOCNAvqMe"
   },
   "source": [
    "# Data Analysis\n",
    "\n",
    "Now that we have all of our datasets loaded up, we can begin to work with them!"
   ]
  },
  {
   "cell_type": "markdown",
   "metadata": {
    "id": "J6Pkg0prv3BE"
   },
   "source": [
    "## Counting total files, and unique files\n",
    "\n",
    "Let's take a quick look at how to count items in DataFrames, and use total and unique files as an example to work with.\n",
    "\n",
    "It's definitely work checking out the [pandas documentation](https://pandas.pydata.org/docs/index.html). There are a lot of good examples available, along with a robust [API reference](https://pandas.pydata.org/docs/reference/index.html#api)."
   ]
  },
  {
   "cell_type": "markdown",
   "metadata": {
    "id": "DFX4Gl3wv7bi"
   },
   "source": [
    "\n",
    "### How many spreadsheet files are in this collection?\n",
    "\n",
    "We can take our `spreadsheet` variable and try a couple of functions to get the same answer.\n",
    "\n",
    "1.   `len(spreadsheet.index)`\n",
    "  * Get the length of the DataFrame's index.\n",
    "2.   `spreadsheet.shape[0]`\n",
    "  * Get the shape or dimensionality of the DataFrame, and take the first item in the tuple.\n",
    "3.  `spreadsheet.count()`\n",
    "  * Count the number of rows for each column.\n",
    "\n"
   ]
  },
  {
   "cell_type": "code",
   "execution_count": null,
   "metadata": {
    "colab": {
     "base_uri": "https://localhost:8080/"
    },
    "id": "HTv8Oet3jiTH",
    "outputId": "ac69e385-50ef-45e8-975e-2e87659e8af2"
   },
   "outputs": [],
   "source": [
    "len(spreadsheet.index)"
   ]
  },
  {
   "cell_type": "code",
   "execution_count": null,
   "metadata": {
    "colab": {
     "base_uri": "https://localhost:8080/"
    },
    "id": "6rYEERnTjifk",
    "outputId": "c7ae41ee-1b47-480c-e841-0b973453d031"
   },
   "outputs": [],
   "source": [
    "spreadsheet.shape[0]"
   ]
  },
  {
   "cell_type": "code",
   "execution_count": null,
   "metadata": {
    "colab": {
     "base_uri": "https://localhost:8080/"
    },
    "id": "bn-1v127aKIG",
    "outputId": "a8843c84-91aa-4a20-ae6f-e9c7daac06f4"
   },
   "outputs": [],
   "source": [
    "spreadsheet.count()"
   ]
  },
  {
   "cell_type": "markdown",
   "metadata": {
    "id": "38veKiPhwKo4"
   },
   "source": [
    "### How many unique spreadsheet files are in the collection?\n",
    "\n",
    " We can see if a spreadsheet file is unique or not by computing an [MD5 hash](https://en.wikipedia.org/wiki/MD5#MD5_hashes) of it, and comparing them. The exact same spreadsheet file might have a filename of `example.csv` or `foo.csv`. If the hash is computed for each, we can see that even with different file names, they are actually the same spreadsheet file. So, since we have both a `MD5` and `SHA1` hash column available in our DataFrame, we can just find the unique values, and count them!\n",
    "\n",
    "\n"
   ]
  },
  {
   "cell_type": "code",
   "execution_count": null,
   "metadata": {
    "colab": {
     "base_uri": "https://localhost:8080/"
    },
    "id": "WesM3kQowM5B",
    "outputId": "6e9f00af-92ed-4ee0-fbda-754a3b784aab"
   },
   "outputs": [],
   "source": [
    "len(spreadsheet.md5.unique())"
   ]
  },
  {
   "cell_type": "markdown",
   "metadata": {
    "id": "ZIXkI0-1wWQf"
   },
   "source": [
    "### What are the top 10 most occurring spreadsheet files in the collection?\n",
    "\n",
    "Here we can take advantage of [`value_counts()`](https://pandas.pydata.org/docs/reference/api/pandas.DataFrame.value_counts.html) to provide us with a list of MD5 hashes, and their respective counts."
   ]
  },
  {
   "cell_type": "code",
   "execution_count": null,
   "metadata": {
    "colab": {
     "base_uri": "https://localhost:8080/"
    },
    "id": "8Ts03OFyjPIM",
    "outputId": "f2bf7e36-167c-4d37-c5d3-3f0d29fec6a9"
   },
   "outputs": [],
   "source": [
    "spreadsheet[\"md5\"].value_counts().head(10)"
   ]
  },
  {
   "cell_type": "markdown",
   "metadata": {},
   "source": [
    "Get the top value as a variable using [`mode()`](https://pandas.pydata.org/docs/reference/api/pandas.DataFrame.mode.html)."
   ]
  },
  {
   "cell_type": "code",
   "execution_count": null,
   "metadata": {},
   "outputs": [],
   "source": [
    "most_occurring = spreadsheet[\"md5\"].mode()[0]\n",
    "most_occurring"
   ]
  },
  {
   "cell_type": "markdown",
   "metadata": {
    "id": "FG7pGZUEwlaI"
   },
   "source": [
    "### What's the information around all the most occurring file?\n",
    "\n",
    "Let's find those spreadsheet files in the DataFrame. We can here see some of the filenames used, MIME types, and its URL."
   ]
  },
  {
   "cell_type": "code",
   "execution_count": null,
   "metadata": {
    "colab": {
     "base_uri": "https://localhost:8080/",
     "height": 935
    },
    "id": "msmmm65lkSIK",
    "outputId": "87f225a3-8f8a-4973-ac6e-d01bf329a4fe"
   },
   "outputs": [],
   "source": [
    "spreadsheet.loc[spreadsheet[\"md5\"] == most_occurring]"
   ]
  },
  {
   "cell_type": "markdown",
   "metadata": {
    "id": "GbLLZW2awzCv"
   },
   "source": [
    "### What are the top 10 most occurring filenames in the collection?\n",
    "\n",
    "Note that this is of course different than the MD5 results up above. Here we are focusing _just_ on filename. So `gas.csv` for example, might actually be referring to different spreadsheet files who happen to have the same name.\n",
    "\n",
    "Here we can use `value_counts()` again, but this time we'll create a variable for the top filenames so we can use it later.\n",
    "\n"
   ]
  },
  {
   "cell_type": "code",
   "execution_count": null,
   "metadata": {
    "colab": {
     "base_uri": "https://localhost:8080/"
    },
    "id": "pQaw54ACkwdZ",
    "outputId": "5ed1bba4-69ad-4fab-9786-2ae400c8e556"
   },
   "outputs": [],
   "source": [
    "top_filenames = spreadsheet[\"filename\"].value_counts().head(10)\n",
    "top_filenames"
   ]
  },
  {
   "cell_type": "markdown",
   "metadata": {
    "id": "Z7F3re20BQRI"
   },
   "source": [
    "### Let's create our first graph!\n",
    "\n",
    "We'll first plot the data with the pandas [plot](https://pandas.pydata.org/docs/reference/api/pandas.Series.plot.html) functionality, and then with [Altair](https://altair-viz.github.io/)."
   ]
  },
  {
   "cell_type": "code",
   "execution_count": null,
   "metadata": {
    "colab": {
     "base_uri": "https://localhost:8080/",
     "height": 739
    },
    "id": "sRvlstfsBWEZ",
    "outputId": "a0aeca25-35f2-4560-cf12-296ccfad8957"
   },
   "outputs": [],
   "source": [
    "top_filenames_chart = top_filenames.plot.bar(figsize=(25, 10))\n",
    "\n",
    "top_filenames_chart.set_title(\"Top Filenames\", fontsize=22)\n",
    "top_filenames_chart.set_xlabel(\"Filename\", fontsize=20)\n",
    "top_filenames_chart.set_ylabel(\"Count\", fontsize=20)"
   ]
  },
  {
   "cell_type": "markdown",
   "metadata": {
    "id": "pQgeOObvgLvK"
   },
   "source": [
    "Now let's setup [Altair](https://altair-viz.github.io/), and plot the data. Altair is useful for creating vizualizations since they can be easily exported as a PNG or SVG."
   ]
  },
  {
   "cell_type": "code",
   "execution_count": null,
   "metadata": {
    "id": "Q7Z4J6qjWaVM"
   },
   "outputs": [],
   "source": [
    "import altair as alt"
   ]
  },
  {
   "cell_type": "code",
   "execution_count": null,
   "metadata": {
    "colab": {
     "base_uri": "https://localhost:8080/",
     "height": 877
    },
    "id": "s0xwvILYWkgg",
    "outputId": "6ea277da-4957-4a37-daa7-63c2525f2c13"
   },
   "outputs": [],
   "source": [
    "top_filenames_altair = (\n",
    "    spreadsheet[\"filename\"]\n",
    "    .value_counts()\n",
    "    .head(10)\n",
    "    .rename_axis(\"Filename\")\n",
    "    .reset_index(name=\"Count\")\n",
    ")\n",
    "\n",
    "filenames_bar = (\n",
    "    alt.Chart(top_filenames_altair)\n",
    "    .mark_bar()\n",
    "    .encode(x=alt.X(\"Filename:O\", sort=\"-y\"), y=alt.Y(\"Count:Q\"))\n",
    ")\n",
    "\n",
    "filenames_rule = (\n",
    "    alt.Chart(top_filenames_altair).mark_rule(color=\"red\").encode(y=\"mean(Count):Q\")\n",
    ")\n",
    "\n",
    "\n",
    "filenames_text = filenames_bar.mark_text(align=\"center\", baseline=\"bottom\").encode(\n",
    "    text=\"Count:Q\"\n",
    ")\n",
    "\n",
    "(filenames_bar + filenames_rule + filenames_text).properties(\n",
    "    width=1400, height=700, title=\"Top Filenames\"\n",
    ")"
   ]
  },
  {
   "cell_type": "markdown",
   "metadata": {
    "id": "BneaN9cgGoly"
   },
   "source": [
    "### How about a file format distribution?\n",
    "\n",
    "What _kind_ of spreadsheet files are present? We can discover this by checking their \"media type\", or [MIME type](https://en.wikipedia.org/wiki/Media_type). \n",
    "\n",
    "\n",
    "\n",
    "\n"
   ]
  },
  {
   "cell_type": "code",
   "execution_count": null,
   "metadata": {
    "colab": {
     "base_uri": "https://localhost:8080/",
     "height": 953
    },
    "id": "RDd-J8D-GwDk",
    "outputId": "6a57d0d3-6465-4a3c-ed39-85de0b4940e2"
   },
   "outputs": [],
   "source": [
    "spreadsheet_mime_types = (\n",
    "    spreadsheet[\"mime_type_tika\"]\n",
    "    .value_counts()\n",
    "    .head(5)\n",
    "    .rename_axis(\"MIME Type\")\n",
    "    .reset_index(name=\"Count\")\n",
    ")\n",
    "\n",
    "spreadsheet_mimes_bar = (\n",
    "    alt.Chart(spreadsheet_mime_types)\n",
    "    .mark_bar()\n",
    "    .encode(x=alt.X(\"MIME Type:O\", sort=\"-y\"), y=alt.Y(\"Count:Q\"))\n",
    ")\n",
    "\n",
    "spreadsheet_mime_rule = (\n",
    "    alt.Chart(spreadsheet_mime_types).mark_rule(color=\"red\").encode(y=\"mean(Count):Q\")\n",
    ")\n",
    "\n",
    "spreadsheet_mime_text = spreadsheet_mimes_bar.mark_text(\n",
    "    align=\"center\", baseline=\"bottom\"\n",
    ").encode(text=\"Count:Q\")\n",
    "\n",
    "(spreadsheet_mimes_bar + spreadsheet_mime_rule + spreadsheet_mime_text).properties(\n",
    "    width=1400, height=700, title=\"Spreadsheet File Format Distribution\"\n",
    ")"
   ]
  },
  {
   "cell_type": "markdown",
   "metadata": {
    "id": "QUJR-jjqNxCL"
   },
   "source": [
    "### How do I get the actual spreadsheet files?\n",
    "\n",
    "...or, how do I get to the actual binary files described by each file format information derivative?\n",
    "\n",
    "There are a few options!\n",
    "\n",
    "1. `wget` or `curl` from the live URL, or a replay URL\n",
    "  * Live web URL\n",
    "    * `wget` or `curl` the value of the `url` column\n",
    "  * Replay web URL\n",
    "    * `wget` or `curl` the value of the `crawl_date` and `url` column using the following pattern:\n",
    "      * `https://web.archive.org/web/` + `crawl_date` + `/` + `url`\n",
    "        * https://web.archive.org/web/20120119124734/http://www.archive.org/images/glogo.png\n",
    "      * `http://wayback.archive-it.org/14462/` + `crawl_date` + `/` + `url`\n",
    "        * https://wayback.archive-it.org/14462/20210524212740/https://ruebot.net/visualization/elxn42/featured_hu33a17dfb90e2c5ed77f783db14a6e53a_5126291_550x0_resize_q90_box_2.png\n",
    "2. Use a scripting language, such as Python\n",
    "  * Make use of the `url` and `filename` columns (and `crawl_date` if you want to use the replay URL)\n",
    "  * `import requests`\n",
    "  * `requests.get(url, allow_redirects=True)`\n",
    "  * `open('filename', 'wb').write(r.content)`\n",
    "3. Use the [Archives Unleashed Toolkit](https://aut.docs.archivesunleashed.org/docs/extract-binary) (if you have access to the W/ARC files)."
   ]
  },
  {
   "cell_type": "markdown",
   "metadata": {
    "id": "8yoFE2xLAlwk"
   },
   "source": [
    "If you wanted to download the spreadsheet files using the replay URL, below is a method for doing so.\n",
    "\n",
    "First, you'll want to setup a replay url base url. Here we'll use the Archive-It Wayback instance for the collection."
   ]
  },
  {
   "cell_type": "code",
   "execution_count": null,
   "metadata": {
    "id": "RxrOHn_2AicZ"
   },
   "outputs": [],
   "source": [
    "wayback_url = \"ARCHCOLLECTIONIDURL\""
   ]
  },
  {
   "cell_type": "markdown",
   "metadata": {
    "id": "jCTmrEBGA-Yd"
   },
   "source": [
    "Next we'll create a new column using a lambda function. If you're familiar working with spreadsheets, what we're doing here is basically concatenating some column values together and creating a new column."
   ]
  },
  {
   "cell_type": "code",
   "execution_count": null,
   "metadata": {
    "id": "p5HoWxkFA6C8"
   },
   "outputs": [],
   "source": [
    "spreadsheet[\"replay_url\"] = spreadsheet.apply(\n",
    "    lambda row: str(wayback_url + str(row[\"crawl_date\"]) + \"/\" + row[\"url\"]), axis=1\n",
    ")"
   ]
  },
  {
   "cell_type": "markdown",
   "metadata": {
    "id": "q87tSYyIBIiZ"
   },
   "source": [
    "Then we can export that new column we created out to a file, so we can use it with `wget` to download all the spreadsheet files!"
   ]
  },
  {
   "cell_type": "code",
   "execution_count": null,
   "metadata": {
    "id": "wyhpsf9wBN1a"
   },
   "outputs": [],
   "source": [
    "spreadsheet[\"replay_url\"].head().to_csv(\n",
    "    \"spreadsheet_urls.txt\", index=False, header=False\n",
    ")"
   ]
  },
  {
   "cell_type": "markdown",
   "metadata": {
    "id": "81a3q7feu5Ji"
   },
   "source": [
    "Finally, we can pass the file to `wget` to use as a download list. You can also speed this process up using `xargs` or `parallel`."
   ]
  },
  {
   "cell_type": "code",
   "execution_count": null,
   "metadata": {
    "colab": {
     "base_uri": "https://localhost:8080/"
    },
    "id": "D_p4qGKoBRaZ",
    "outputId": "b733d389-4142-4b5b-f064-23e8db87e74c"
   },
   "outputs": [],
   "source": [
    "!wget --random-wait -i spreadsheet_urls.txt"
   ]
  }
 ],
 "metadata": {
  "colab": {
   "include_colab_link": true,
   "provenance": []
  },
  "kernelspec": {
   "display_name": "Python 3 (ipykernel)",
   "language": "python",
   "name": "python3"
  },
  "language_info": {
   "codemirror_mode": {
    "name": "ipython",
    "version": 3
   },
   "file_extension": ".py",
   "mimetype": "text/x-python",
   "name": "python",
   "nbconvert_exporter": "python",
   "pygments_lexer": "ipython3",
   "version": "3.9.9"
  }
 },
 "nbformat": 4,
 "nbformat_minor": 4
}
