{
 "cells": [
  {
   "cell_type": "markdown",
   "metadata": {
    "id": "EN0gajhr7pKd"
   },
   "source": [
    "# Image Graph Dataset Exploration\n",
    "\n",
    "We're going to take a look at a few examples of how we can explore the Image Graph dataset."
   ]
  },
  {
   "cell_type": "code",
   "execution_count": null,
   "metadata": {
    "cellView": "form",
    "colab": {
     "base_uri": "https://localhost:8080/"
    },
    "id": "ZRYzc-YZ8BQ_",
    "outputId": "c3704725-8685-4cff-f700-0f9a299c2e53"
   },
   "outputs": [],
   "source": [
    "dataset = \"ARCHDATASETURL\""
   ]
  },
  {
   "cell_type": "markdown",
   "metadata": {
    "id": "Z14F2cIWJVW0"
   },
   "source": [
    "## pandas\n",
    "\n",
    "Next, we'll setup our environment so we can load our CSS Information dataset into [pandas](https://pandas.pydata.org) DataFrames. If you're unfamiliar with DataFrames, but you've worked with spreadsheets before, you should feel comfortable pretty quick."
   ]
  },
  {
   "cell_type": "code",
   "execution_count": null,
   "metadata": {
    "id": "n56-DeEFPTCq"
   },
   "outputs": [],
   "source": [
    "import pandas as pd"
   ]
  },
  {
   "cell_type": "markdown",
   "metadata": {
    "id": "JgBtx0xFFv_i"
   },
   "source": [
    "# Data Table Display\n",
    "\n",
    "Colab includes an extension that renders pandas DataFrames into interactive displays that can be filtered, sorted, and explored dynamically. This can be very useful for taking a look at what each DataFrame provides!\n",
    "\n",
    "Data table display for pandas DataFrames can be enabled by running:\n",
    "```python\n",
    "%load_ext google.colab.data_table\n",
    "```\n",
    "and disabled by running\n",
    "```python\n",
    "%unload_ext google.colab.data_table\n",
    "```"
   ]
  },
  {
   "cell_type": "code",
   "execution_count": null,
   "metadata": {
    "id": "8h2lJY2Z7xyt"
   },
   "outputs": [],
   "source": [
    "%load_ext google.colab.data_table"
   ]
  },
  {
   "cell_type": "markdown",
   "metadata": {
    "id": "6prR7j1zI_D5"
   },
   "source": [
    "## Loading our ARCH Dataset as a DataFrame\n",
    "\n",
    "---\n",
    "\n",
    "\n",
    "Next, we'll create pandas DataFrame from our dataset, and show a preview of it using the Data Table Display."
   ]
  },
  {
   "cell_type": "code",
   "execution_count": null,
   "metadata": {
    "colab": {
     "base_uri": "https://localhost:8080/",
     "height": 476
    },
    "id": "YL0LQaUNHRKx",
    "outputId": "b2eb69e8-ecb2-4fc1-b690-c8ed3f8c1fe3"
   },
   "outputs": [],
   "source": [
    "image_graph = pd.read_csv(dataset, compression=\"gzip\")\n",
    "image_graph"
   ]
  },
  {
   "cell_type": "markdown",
   "metadata": {
    "id": "Q_PLHmrXZR34"
   },
   "source": [
    "## Examining the Image Graph\n",
    "\n"
   ]
  },
  {
   "cell_type": "markdown",
   "metadata": {
    "id": "K6j_2QrjZtd3"
   },
   "source": [
    "\n",
    "### What are the most frequent `source` and `target` combinations?"
   ]
  },
  {
   "cell_type": "code",
   "execution_count": null,
   "metadata": {
    "colab": {
     "base_uri": "https://localhost:8080/",
     "height": 309
    },
    "id": "zOC5DePocC4c",
    "outputId": "9ed5d589-a112-4d72-d702-b76a4d64ae66"
   },
   "outputs": [],
   "source": [
    "top_links = image_graph[[\"source\", \"url\"]].value_counts().head(10).reset_index()\n",
    "top_links.columns = [\"source\", \"url\", \"count\"]\n",
    "top_links"
   ]
  },
  {
   "cell_type": "markdown",
   "metadata": {
    "id": "UceDp9wC4CWt"
   },
   "source": [
    "## Can we create a network graph visualization with the data we have?\n",
    "\n",
    "Yes! We can take advantage of [NetworkX](https://networkx.org/documentation/stable/index.html) to create some basic graphs.\n",
    "\n",
    "NetworkX is *really* powerful, so there is a lot more that can be done with it than what we're demonstrating here."
   ]
  },
  {
   "cell_type": "markdown",
   "metadata": {
    "id": "EPkV2asa4hXr"
   },
   "source": [
    "First we'll import `networkx` as well as `matplotlib.pyplot`."
   ]
  },
  {
   "cell_type": "code",
   "execution_count": null,
   "metadata": {
    "id": "5axvp0L7OrhE"
   },
   "outputs": [],
   "source": [
    "import matplotlib.pyplot as plt\n",
    "import networkx as nx"
   ]
  },
  {
   "cell_type": "markdown",
   "metadata": {
    "id": "Q_jSty3K4taF"
   },
   "source": [
    "We can take advantage of [`from_pandas_edgelist`](https://networkx.org/documentation/stable/reference/generated/networkx.convert_matrix.from_pandas_edgelist.html) here since our three graph derivatives are edge tables, and initialize our graph.\n"
   ]
  },
  {
   "cell_type": "code",
   "execution_count": null,
   "metadata": {
    "id": "PoYrzuutOtru"
   },
   "outputs": [],
   "source": [
    "G = nx.from_pandas_edgelist(\n",
    "    top_links, source=\"source\", target=\"url\", edge_key=\"url\", edge_attr=\"count\"\n",
    ")"
   ]
  },
  {
   "cell_type": "markdown",
   "metadata": {
    "id": "0GXQAt9X5JIt"
   },
   "source": [
    "Set up our graph, and draw it!\n"
   ]
  },
  {
   "cell_type": "code",
   "execution_count": null,
   "metadata": {
    "colab": {
     "base_uri": "https://localhost:8080/",
     "height": 895
    },
    "id": "AkM5xZe83fJe",
    "outputId": "ec8cbd0c-0803-4496-8646-323a01a31c9b"
   },
   "outputs": [],
   "source": [
    "pos = nx.spring_layout(G, k=15)\n",
    "options = {\n",
    "    \"node_size\": 1000,\n",
    "    \"node_color\": \"#bc5090\",\n",
    "    \"node_shape\": \"o\",\n",
    "    \"alpha\": 0.5,\n",
    "    \"linewidths\": 4,\n",
    "    \"font_size\": 10,\n",
    "    \"font_color\": \"black\",\n",
    "    \"width\": 2,\n",
    "    \"edge_color\": \"grey\",\n",
    "}\n",
    "\n",
    "plt.figure(figsize=(12, 12))\n",
    "\n",
    "nx.draw(G, pos, with_labels=True, **options)\n",
    "\n",
    "labels = {e: G.edges[e][\"count\"] for e in G.edges}\n",
    "nx.draw_networkx_edge_labels(G, pos, edge_labels=labels)\n",
    "\n",
    "plt.show()"
   ]
  }
 ],
 "metadata": {
  "colab": {
   "include_colab_link": true,
   "machine_shape": "hm",
   "provenance": []
  },
  "kernelspec": {
   "display_name": "Python 3 (ipykernel)",
   "language": "python",
   "name": "python3"
  },
  "language_info": {
   "codemirror_mode": {
    "name": "ipython",
    "version": 3
   },
   "file_extension": ".py",
   "mimetype": "text/x-python",
   "name": "python",
   "nbconvert_exporter": "python",
   "pygments_lexer": "ipython3",
   "version": "3.9.9"
  }
 },
 "nbformat": 4,
 "nbformat_minor": 4
}
